{
  "nbformat": 4,
  "nbformat_minor": 0,
  "metadata": {
    "colab": {
      "provenance": [],
      "authorship_tag": "ABX9TyPHq0OU/kxOxWx0V0jAU+ep",
      "include_colab_link": true
    },
    "kernelspec": {
      "name": "python3",
      "display_name": "Python 3"
    },
    "language_info": {
      "name": "python"
    }
  },
  "cells": [
    {
      "cell_type": "markdown",
      "metadata": {
        "id": "view-in-github",
        "colab_type": "text"
      },
      "source": [
        "<a href=\"https://colab.research.google.com/github/jaqueantunes/IBOVESPA/blob/main/PosFIAP_T2_final.ipynb\" target=\"_parent\"><img src=\"https://colab.research.google.com/assets/colab-badge.svg\" alt=\"Open In Colab\"/></a>"
      ]
    },
    {
      "cell_type": "code",
      "source": [
        "import pandas as pd\n",
        "import numpy as np\n",
        "from xgboost import XGBClassifier\n",
        "from sklearn.model_selection import TimeSeriesSplit\n",
        "from sklearn.metrics import accuracy_score, classification_report, confusion_matrix\n",
        "import matplotlib.pyplot as plt\n",
        "import seaborn as sns\n",
        "\n",
        "# === 1. Carregar os dados ===\n",
        "df = pd.read_csv(\"Dados Históricos - Ibovespa.csv\")\n",
        "df['Data'] = pd.to_datetime(df['Data'], dayfirst=True)\n",
        "\n",
        "# === 2. Tratamento ===\n",
        "# Corrige colunas numéricas\n",
        "def convert_volume(valor):\n",
        "    if 'B' in valor:\n",
        "        return float(valor.replace(',', '.').replace('B', '')) * 1_000_000_000\n",
        "    elif 'M' in valor:\n",
        "        return float(valor.replace(',', '.').replace('M', '')) * 1_000_000\n",
        "    else:\n",
        "        return float(valor.replace(',', '.'))\n",
        "\n",
        "df['Vol.'] = df['Vol.'].apply(convert_volume)\n",
        "\n",
        "for col in ['Último', 'Abertura', 'Máxima', 'Mínima']:\n",
        "    df[col] = df[col].astype(str).str.replace('.', '').str.replace(',', '.').astype(float)\n",
        "\n",
        "df['Var%'] = df['Var%'].astype(str).str.replace(',', '.').str.replace('%', '').astype(float)\n",
        "df = df.sort_values('Data').reset_index(drop=True)\n",
        "\n",
        "# === 3. Features básicas ===\n",
        "df['Retorno_1d'] = df['Último'].pct_change(1)\n",
        "df['Retorno_3d'] = df['Último'].pct_change(3)\n",
        "df['Retorno_5d'] = df['Último'].pct_change(5)\n",
        "df['Momentum_5d'] = df['Último'] - df['Último'].shift(5)\n",
        "\n",
        "# === 4. Indicadores técnicos ===\n",
        "def calculate_rsi(series, window=14):\n",
        "    delta = series.diff()\n",
        "    gain = delta.clip(lower=0)\n",
        "    loss = -delta.clip(upper=0)\n",
        "    avg_gain = gain.rolling(window).mean()\n",
        "    avg_loss = loss.rolling(window).mean()\n",
        "    rs = avg_gain / avg_loss\n",
        "    return 100 - (100 / (1 + rs))\n",
        "\n",
        "def calculate_macd(series, short=12, long=26, signal=9):\n",
        "    ema_short = series.ewm(span=short, adjust=False).mean()\n",
        "    ema_long = series.ewm(span=long, adjust=False).mean()\n",
        "    macd = ema_short - ema_long\n",
        "    macd_signal = macd.ewm(span=signal, adjust=False).mean()\n",
        "    return macd, macd_signal\n",
        "\n",
        "df['RSI_14'] = calculate_rsi(df['Último'])\n",
        "df['MACD'], df['MACD_signal'] = calculate_macd(df['Último'])\n",
        "df['MACD_diff'] = df['MACD'] - df['MACD_signal']\n",
        "\n",
        "# === 5. Lags ===\n",
        "df['Lag_Ret_1'] = df['Retorno_1d'].shift(1)\n",
        "df['Lag_Ret_2'] = df['Retorno_1d'].shift(2)\n",
        "df['Lag_Ret_5'] = df['Retorno_1d'].shift(5)\n",
        "df['Lag_RSI_1'] = df['RSI_14'].shift(1)\n",
        "\n",
        "# === 6. Target ===\n",
        "df['Target'] = (df['Último'].shift(-1) > df['Último']).astype(int)\n",
        "\n",
        "# === 7. Limpeza final ===\n",
        "df = df.dropna().reset_index(drop=True)\n",
        "\n",
        "# === 8. Seleção de features ===\n",
        "features = [\n",
        "    'Retorno_1d', 'Retorno_3d', 'Retorno_5d',\n",
        "    'Momentum_5d',\n",
        "    'RSI_14', 'MACD_diff',\n",
        "    'Lag_Ret_1', 'Lag_Ret_2', 'Lag_Ret_5', 'Lag_RSI_1'\n",
        "]\n",
        "\n",
        "X = df[features]\n",
        "y = df['Target']\n",
        "\n",
        "# === 9. Split temporal ===\n",
        "X_train, X_test = X[:-30], X[-30:]\n",
        "y_train, y_test = y[:-30], y[-30:]\n",
        "\n",
        "# === 10. Modelo ===\n",
        "model = XGBClassifier(\n",
        "    max_depth=4,\n",
        "    n_estimators=200,\n",
        "    learning_rate=0.05,\n",
        "    subsample=0.8,\n",
        "    colsample_bytree=0.8,\n",
        "    random_state=42,\n",
        "    use_label_encoder=False,\n",
        "    eval_metric='logloss'\n",
        ")\n",
        "model.fit(X_train, y_train)\n",
        "\n",
        "# === 11. Avaliação ===\n",
        "y_pred = model.predict(X_test)\n",
        "\n",
        "print(\"Acurácia:\", accuracy_score(y_test, y_pred))\n",
        "print(\"Matriz de Confusão:\\n\", confusion_matrix(y_test, y_pred))\n",
        "print(\"Relatório:\\n\", classification_report(y_test, y_pred))\n",
        "\n",
        "# === 12. Importância das variáveis ===\n",
        "importances = model.feature_importances_\n",
        "feat_imp = pd.Series(importances, index=features).sort_values(ascending=False)\n",
        "\n",
        "plt.figure(figsize=(6,4))\n",
        "sns.barplot(x=feat_imp, y=feat_imp.index)\n",
        "plt.title(\"Importância das Features – XGBoost\")\n",
        "plt.tight_layout()\n",
        "plt.show()\n"
      ],
      "metadata": {
        "colab": {
          "base_uri": "https://localhost:8080/",
          "height": 736
        },
        "id": "HEFy66QWDJLC",
        "outputId": "7ee9677e-6231-4a6b-9915-e7f124cb6189"
      },
      "execution_count": 3,
      "outputs": [
        {
          "output_type": "stream",
          "name": "stderr",
          "text": [
            "/usr/local/lib/python3.11/dist-packages/xgboost/training.py:183: UserWarning: [15:56:27] WARNING: /workspace/src/learner.cc:738: \n",
            "Parameters: { \"use_label_encoder\" } are not used.\n",
            "\n",
            "  bst.update(dtrain, iteration=i, fobj=obj)\n"
          ]
        },
        {
          "output_type": "stream",
          "name": "stdout",
          "text": [
            "Acurácia: 0.7\n",
            "Matriz de Confusão:\n",
            " [[13  3]\n",
            " [ 6  8]]\n",
            "Relatório:\n",
            "               precision    recall  f1-score   support\n",
            "\n",
            "           0       0.68      0.81      0.74        16\n",
            "           1       0.73      0.57      0.64        14\n",
            "\n",
            "    accuracy                           0.70        30\n",
            "   macro avg       0.71      0.69      0.69        30\n",
            "weighted avg       0.70      0.70      0.69        30\n",
            "\n"
          ]
        },
        {
          "output_type": "display_data",
          "data": {
            "text/plain": [
              "<Figure size 600x400 with 1 Axes>"
            ],
            "image/png": "[encoded data removed]"
          },
          "metadata": {}
        }
      ]
    },
    {
      "cell_type": "code",
      "source": [
        "pip install imbalanced-learn"
      ],
      "metadata": {
        "id": "aKLw7w5i1ncH",
        "colab": {
          "base_uri": "https://localhost:8080/"
        },
        "outputId": "f2785c8a-b072-4b62-df1d-9abd186f1cb4"
      },
      "execution_count": 1,
      "outputs": [
        {
          "output_type": "stream",
          "name": "stdout",
          "text": [
            "Requirement already satisfied: imbalanced-learn in /usr/local/lib/python3.11/dist-packages (0.13.0)\n",
            "Requirement already satisfied: numpy<3,>=1.24.3 in /usr/local/lib/python3.11/dist-packages (from imbalanced-learn) (2.0.2)\n",
            "Requirement already satisfied: scipy<2,>=1.10.1 in /usr/local/lib/python3.11/dist-packages (from imbalanced-learn) (1.16.0)\n",
            "Requirement already satisfied: scikit-learn<2,>=1.3.2 in /usr/local/lib/python3.11/dist-packages (from imbalanced-learn) (1.6.1)\n",
            "Requirement already satisfied: sklearn-compat<1,>=0.1 in /usr/local/lib/python3.11/dist-packages (from imbalanced-learn) (0.1.3)\n",
            "Requirement already satisfied: joblib<2,>=1.1.1 in /usr/local/lib/python3.11/dist-packages (from imbalanced-learn) (1.5.1)\n",
            "Requirement already satisfied: threadpoolctl<4,>=2.0.0 in /usr/local/lib/python3.11/dist-packages (from imbalanced-learn) (3.6.0)\n"
          ]
        }
      ]
    },
    {
      "cell_type": "code",
      "source": [],
      "metadata": {
        "id": "eHaPG1ZP1nfd"
      },
      "execution_count": null,
      "outputs": []
    },
    {
      "cell_type": "code",
      "source": [],
      "metadata": {
        "id": "X4xB2aZu1niq"
      },
      "execution_count": null,
      "outputs": []
    }
  ]
}